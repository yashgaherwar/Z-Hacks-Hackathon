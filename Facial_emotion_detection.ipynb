{
  "cells": [
    {
      "cell_type": "code",
      "execution_count": null,
      "metadata": {
        "id": "oaZDzX0af-mv"
      },
      "outputs": [],
      "source": [
        "import pandas as pd\n",
        "import numpy as np\n",
        "import matplotlib.pyplot as plt\n",
        "import seaborn as sns"
      ]
    },
    {
      "cell_type": "code",
      "execution_count": null,
      "metadata": {
        "id": "MzReiUuTghhx"
      },
      "outputs": [],
      "source": [
        "import cv2\n",
        "from google.colab.patches import cv2_imshow\n",
        "from keras.preprocessing import image\n",
        "from PIL import Image"
      ]
    },
    {
      "cell_type": "code",
      "execution_count": null,
      "metadata": {
        "id": "l-WaJp9VglQh"
      },
      "outputs": [],
      "source": [
        "from keras.layers import Dense\n",
        "from keras.models import Sequential\n",
        "from tensorflow.keras.layers import Flatten,BatchNormalization\n",
        "from tensorflow.keras.layers import MaxPooling2D,Conv2D\n",
        "from tensorflow.keras.layers import Input,Activation,Add\n",
        "from tensorflow.keras.models import Model \n",
        "from tensorflow.keras.optimizers import Adam\n",
        "import tensorflow as tf"
      ]
    },
    {
      "cell_type": "code",
      "execution_count": null,
      "metadata": {
        "id": "ERbKFyHOgosS"
      },
      "outputs": [],
      "source": [
        "from tensorflow.keras.layers import Conv2D,InputLayer, Dropout, BatchNormalization, Flatten, Dense, MaxPooling2D"
      ]
    },
    {
      "cell_type": "code",
      "execution_count": null,
      "metadata": {
        "id": "qIteUF1Bgr2y",
        "colab": {
          "base_uri": "https://localhost:8080/"
        },
        "outputId": "0216a8a6-c43a-454a-ee67-64435cb4e5c7"
      },
      "outputs": [
        {
          "output_type": "stream",
          "name": "stdout",
          "text": [
            "Drive already mounted at /content/gdrive; to attempt to forcibly remount, call drive.mount(\"/content/gdrive\", force_remount=True).\n"
          ]
        }
      ],
      "source": [
        "from google.colab import drive\n",
        "drive.mount(\"/content/gdrive\")"
      ]
    },
    {
      "cell_type": "code",
      "execution_count": null,
      "metadata": {
        "id": "rf9a10Bvgwbl"
      },
      "outputs": [],
      "source": [
        "import pandas as pd\n",
        "df=pd.read_csv('/content/gdrive/MyDrive/SE/fer2013.csv')"
      ]
    },
    {
      "cell_type": "code",
      "execution_count": null,
      "metadata": {
        "id": "WlSCowBciGBK",
        "colab": {
          "base_uri": "https://localhost:8080/",
          "height": 423
        },
        "outputId": "3d75227f-8ba5-4226-9944-08663c888bca"
      },
      "outputs": [
        {
          "output_type": "execute_result",
          "data": {
            "text/plain": [
              "       emotion                                             pixels        Usage\n",
              "0            0  70 80 82 72 58 58 60 63 54 58 60 48 89 115 121...     Training\n",
              "1            0  151 150 147 155 148 133 111 140 170 174 182 15...     Training\n",
              "2            2  231 212 156 164 174 138 161 173 182 200 106 38...     Training\n",
              "3            4  24 32 36 30 32 23 19 20 30 41 21 22 32 34 21 1...     Training\n",
              "4            6  4 0 0 0 0 0 0 0 0 0 0 0 3 15 23 28 48 50 58 84...     Training\n",
              "...        ...                                                ...          ...\n",
              "35882        6  50 36 17 22 23 29 33 39 34 37 37 37 39 43 48 5...  PrivateTest\n",
              "35883        3  178 174 172 173 181 188 191 194 196 199 200 20...  PrivateTest\n",
              "35884        0  17 17 16 23 28 22 19 17 25 26 20 24 31 19 27 9...  PrivateTest\n",
              "35885        3  30 28 28 29 31 30 42 68 79 81 77 67 67 71 63 6...  PrivateTest\n",
              "35886        2  19 13 14 12 13 16 21 33 50 57 71 84 97 108 122...  PrivateTest\n",
              "\n",
              "[35887 rows x 3 columns]"
            ],
            "text/html": [
              "\n",
              "  <div id=\"df-b820937c-2a78-4a1e-b64c-3e063dd70098\">\n",
              "    <div class=\"colab-df-container\">\n",
              "      <div>\n",
              "<style scoped>\n",
              "    .dataframe tbody tr th:only-of-type {\n",
              "        vertical-align: middle;\n",
              "    }\n",
              "\n",
              "    .dataframe tbody tr th {\n",
              "        vertical-align: top;\n",
              "    }\n",
              "\n",
              "    .dataframe thead th {\n",
              "        text-align: right;\n",
              "    }\n",
              "</style>\n",
              "<table border=\"1\" class=\"dataframe\">\n",
              "  <thead>\n",
              "    <tr style=\"text-align: right;\">\n",
              "      <th></th>\n",
              "      <th>emotion</th>\n",
              "      <th>pixels</th>\n",
              "      <th>Usage</th>\n",
              "    </tr>\n",
              "  </thead>\n",
              "  <tbody>\n",
              "    <tr>\n",
              "      <th>0</th>\n",
              "      <td>0</td>\n",
              "      <td>70 80 82 72 58 58 60 63 54 58 60 48 89 115 121...</td>\n",
              "      <td>Training</td>\n",
              "    </tr>\n",
              "    <tr>\n",
              "      <th>1</th>\n",
              "      <td>0</td>\n",
              "      <td>151 150 147 155 148 133 111 140 170 174 182 15...</td>\n",
              "      <td>Training</td>\n",
              "    </tr>\n",
              "    <tr>\n",
              "      <th>2</th>\n",
              "      <td>2</td>\n",
              "      <td>231 212 156 164 174 138 161 173 182 200 106 38...</td>\n",
              "      <td>Training</td>\n",
              "    </tr>\n",
              "    <tr>\n",
              "      <th>3</th>\n",
              "      <td>4</td>\n",
              "      <td>24 32 36 30 32 23 19 20 30 41 21 22 32 34 21 1...</td>\n",
              "      <td>Training</td>\n",
              "    </tr>\n",
              "    <tr>\n",
              "      <th>4</th>\n",
              "      <td>6</td>\n",
              "      <td>4 0 0 0 0 0 0 0 0 0 0 0 3 15 23 28 48 50 58 84...</td>\n",
              "      <td>Training</td>\n",
              "    </tr>\n",
              "    <tr>\n",
              "      <th>...</th>\n",
              "      <td>...</td>\n",
              "      <td>...</td>\n",
              "      <td>...</td>\n",
              "    </tr>\n",
              "    <tr>\n",
              "      <th>35882</th>\n",
              "      <td>6</td>\n",
              "      <td>50 36 17 22 23 29 33 39 34 37 37 37 39 43 48 5...</td>\n",
              "      <td>PrivateTest</td>\n",
              "    </tr>\n",
              "    <tr>\n",
              "      <th>35883</th>\n",
              "      <td>3</td>\n",
              "      <td>178 174 172 173 181 188 191 194 196 199 200 20...</td>\n",
              "      <td>PrivateTest</td>\n",
              "    </tr>\n",
              "    <tr>\n",
              "      <th>35884</th>\n",
              "      <td>0</td>\n",
              "      <td>17 17 16 23 28 22 19 17 25 26 20 24 31 19 27 9...</td>\n",
              "      <td>PrivateTest</td>\n",
              "    </tr>\n",
              "    <tr>\n",
              "      <th>35885</th>\n",
              "      <td>3</td>\n",
              "      <td>30 28 28 29 31 30 42 68 79 81 77 67 67 71 63 6...</td>\n",
              "      <td>PrivateTest</td>\n",
              "    </tr>\n",
              "    <tr>\n",
              "      <th>35886</th>\n",
              "      <td>2</td>\n",
              "      <td>19 13 14 12 13 16 21 33 50 57 71 84 97 108 122...</td>\n",
              "      <td>PrivateTest</td>\n",
              "    </tr>\n",
              "  </tbody>\n",
              "</table>\n",
              "<p>35887 rows × 3 columns</p>\n",
              "</div>\n",
              "      <button class=\"colab-df-convert\" onclick=\"convertToInteractive('df-b820937c-2a78-4a1e-b64c-3e063dd70098')\"\n",
              "              title=\"Convert this dataframe to an interactive table.\"\n",
              "              style=\"display:none;\">\n",
              "        \n",
              "  <svg xmlns=\"http://www.w3.org/2000/svg\" height=\"24px\"viewBox=\"0 0 24 24\"\n",
              "       width=\"24px\">\n",
              "    <path d=\"M0 0h24v24H0V0z\" fill=\"none\"/>\n",
              "    <path d=\"M18.56 5.44l.94 2.06.94-2.06 2.06-.94-2.06-.94-.94-2.06-.94 2.06-2.06.94zm-11 1L8.5 8.5l.94-2.06 2.06-.94-2.06-.94L8.5 2.5l-.94 2.06-2.06.94zm10 10l.94 2.06.94-2.06 2.06-.94-2.06-.94-.94-2.06-.94 2.06-2.06.94z\"/><path d=\"M17.41 7.96l-1.37-1.37c-.4-.4-.92-.59-1.43-.59-.52 0-1.04.2-1.43.59L10.3 9.45l-7.72 7.72c-.78.78-.78 2.05 0 2.83L4 21.41c.39.39.9.59 1.41.59.51 0 1.02-.2 1.41-.59l7.78-7.78 2.81-2.81c.8-.78.8-2.07 0-2.86zM5.41 20L4 18.59l7.72-7.72 1.47 1.35L5.41 20z\"/>\n",
              "  </svg>\n",
              "      </button>\n",
              "      \n",
              "  <style>\n",
              "    .colab-df-container {\n",
              "      display:flex;\n",
              "      flex-wrap:wrap;\n",
              "      gap: 12px;\n",
              "    }\n",
              "\n",
              "    .colab-df-convert {\n",
              "      background-color: #E8F0FE;\n",
              "      border: none;\n",
              "      border-radius: 50%;\n",
              "      cursor: pointer;\n",
              "      display: none;\n",
              "      fill: #1967D2;\n",
              "      height: 32px;\n",
              "      padding: 0 0 0 0;\n",
              "      width: 32px;\n",
              "    }\n",
              "\n",
              "    .colab-df-convert:hover {\n",
              "      background-color: #E2EBFA;\n",
              "      box-shadow: 0px 1px 2px rgba(60, 64, 67, 0.3), 0px 1px 3px 1px rgba(60, 64, 67, 0.15);\n",
              "      fill: #174EA6;\n",
              "    }\n",
              "\n",
              "    [theme=dark] .colab-df-convert {\n",
              "      background-color: #3B4455;\n",
              "      fill: #D2E3FC;\n",
              "    }\n",
              "\n",
              "    [theme=dark] .colab-df-convert:hover {\n",
              "      background-color: #434B5C;\n",
              "      box-shadow: 0px 1px 3px 1px rgba(0, 0, 0, 0.15);\n",
              "      filter: drop-shadow(0px 1px 2px rgba(0, 0, 0, 0.3));\n",
              "      fill: #FFFFFF;\n",
              "    }\n",
              "  </style>\n",
              "\n",
              "      <script>\n",
              "        const buttonEl =\n",
              "          document.querySelector('#df-b820937c-2a78-4a1e-b64c-3e063dd70098 button.colab-df-convert');\n",
              "        buttonEl.style.display =\n",
              "          google.colab.kernel.accessAllowed ? 'block' : 'none';\n",
              "\n",
              "        async function convertToInteractive(key) {\n",
              "          const element = document.querySelector('#df-b820937c-2a78-4a1e-b64c-3e063dd70098');\n",
              "          const dataTable =\n",
              "            await google.colab.kernel.invokeFunction('convertToInteractive',\n",
              "                                                     [key], {});\n",
              "          if (!dataTable) return;\n",
              "\n",
              "          const docLinkHtml = 'Like what you see? Visit the ' +\n",
              "            '<a target=\"_blank\" href=https://colab.research.google.com/notebooks/data_table.ipynb>data table notebook</a>'\n",
              "            + ' to learn more about interactive tables.';\n",
              "          element.innerHTML = '';\n",
              "          dataTable['output_type'] = 'display_data';\n",
              "          await google.colab.output.renderOutput(dataTable, element);\n",
              "          const docLink = document.createElement('div');\n",
              "          docLink.innerHTML = docLinkHtml;\n",
              "          element.appendChild(docLink);\n",
              "        }\n",
              "      </script>\n",
              "    </div>\n",
              "  </div>\n",
              "  "
            ]
          },
          "metadata": {},
          "execution_count": 159
        }
      ],
      "source": [
        "df"
      ]
    },
    {
      "cell_type": "code",
      "execution_count": null,
      "metadata": {
        "id": "_I82VnLliO7I"
      },
      "outputs": [],
      "source": [
        "df1=df.drop(['Usage'],axis=1)"
      ]
    },
    {
      "cell_type": "code",
      "execution_count": null,
      "metadata": {
        "id": "awu5ge0PiZDc",
        "colab": {
          "base_uri": "https://localhost:8080/",
          "height": 423
        },
        "outputId": "a3bdf9cb-3c42-4cfd-d4a3-4aacc2852d35"
      },
      "outputs": [
        {
          "output_type": "execute_result",
          "data": {
            "text/plain": [
              "       emotion                                             pixels\n",
              "0            0  70 80 82 72 58 58 60 63 54 58 60 48 89 115 121...\n",
              "1            0  151 150 147 155 148 133 111 140 170 174 182 15...\n",
              "2            2  231 212 156 164 174 138 161 173 182 200 106 38...\n",
              "3            4  24 32 36 30 32 23 19 20 30 41 21 22 32 34 21 1...\n",
              "4            6  4 0 0 0 0 0 0 0 0 0 0 0 3 15 23 28 48 50 58 84...\n",
              "...        ...                                                ...\n",
              "35882        6  50 36 17 22 23 29 33 39 34 37 37 37 39 43 48 5...\n",
              "35883        3  178 174 172 173 181 188 191 194 196 199 200 20...\n",
              "35884        0  17 17 16 23 28 22 19 17 25 26 20 24 31 19 27 9...\n",
              "35885        3  30 28 28 29 31 30 42 68 79 81 77 67 67 71 63 6...\n",
              "35886        2  19 13 14 12 13 16 21 33 50 57 71 84 97 108 122...\n",
              "\n",
              "[35887 rows x 2 columns]"
            ],
            "text/html": [
              "\n",
              "  <div id=\"df-7e42fd74-c493-4aeb-9ac2-b5f26bd57db5\">\n",
              "    <div class=\"colab-df-container\">\n",
              "      <div>\n",
              "<style scoped>\n",
              "    .dataframe tbody tr th:only-of-type {\n",
              "        vertical-align: middle;\n",
              "    }\n",
              "\n",
              "    .dataframe tbody tr th {\n",
              "        vertical-align: top;\n",
              "    }\n",
              "\n",
              "    .dataframe thead th {\n",
              "        text-align: right;\n",
              "    }\n",
              "</style>\n",
              "<table border=\"1\" class=\"dataframe\">\n",
              "  <thead>\n",
              "    <tr style=\"text-align: right;\">\n",
              "      <th></th>\n",
              "      <th>emotion</th>\n",
              "      <th>pixels</th>\n",
              "    </tr>\n",
              "  </thead>\n",
              "  <tbody>\n",
              "    <tr>\n",
              "      <th>0</th>\n",
              "      <td>0</td>\n",
              "      <td>70 80 82 72 58 58 60 63 54 58 60 48 89 115 121...</td>\n",
              "    </tr>\n",
              "    <tr>\n",
              "      <th>1</th>\n",
              "      <td>0</td>\n",
              "      <td>151 150 147 155 148 133 111 140 170 174 182 15...</td>\n",
              "    </tr>\n",
              "    <tr>\n",
              "      <th>2</th>\n",
              "      <td>2</td>\n",
              "      <td>231 212 156 164 174 138 161 173 182 200 106 38...</td>\n",
              "    </tr>\n",
              "    <tr>\n",
              "      <th>3</th>\n",
              "      <td>4</td>\n",
              "      <td>24 32 36 30 32 23 19 20 30 41 21 22 32 34 21 1...</td>\n",
              "    </tr>\n",
              "    <tr>\n",
              "      <th>4</th>\n",
              "      <td>6</td>\n",
              "      <td>4 0 0 0 0 0 0 0 0 0 0 0 3 15 23 28 48 50 58 84...</td>\n",
              "    </tr>\n",
              "    <tr>\n",
              "      <th>...</th>\n",
              "      <td>...</td>\n",
              "      <td>...</td>\n",
              "    </tr>\n",
              "    <tr>\n",
              "      <th>35882</th>\n",
              "      <td>6</td>\n",
              "      <td>50 36 17 22 23 29 33 39 34 37 37 37 39 43 48 5...</td>\n",
              "    </tr>\n",
              "    <tr>\n",
              "      <th>35883</th>\n",
              "      <td>3</td>\n",
              "      <td>178 174 172 173 181 188 191 194 196 199 200 20...</td>\n",
              "    </tr>\n",
              "    <tr>\n",
              "      <th>35884</th>\n",
              "      <td>0</td>\n",
              "      <td>17 17 16 23 28 22 19 17 25 26 20 24 31 19 27 9...</td>\n",
              "    </tr>\n",
              "    <tr>\n",
              "      <th>35885</th>\n",
              "      <td>3</td>\n",
              "      <td>30 28 28 29 31 30 42 68 79 81 77 67 67 71 63 6...</td>\n",
              "    </tr>\n",
              "    <tr>\n",
              "      <th>35886</th>\n",
              "      <td>2</td>\n",
              "      <td>19 13 14 12 13 16 21 33 50 57 71 84 97 108 122...</td>\n",
              "    </tr>\n",
              "  </tbody>\n",
              "</table>\n",
              "<p>35887 rows × 2 columns</p>\n",
              "</div>\n",
              "      <button class=\"colab-df-convert\" onclick=\"convertToInteractive('df-7e42fd74-c493-4aeb-9ac2-b5f26bd57db5')\"\n",
              "              title=\"Convert this dataframe to an interactive table.\"\n",
              "              style=\"display:none;\">\n",
              "        \n",
              "  <svg xmlns=\"http://www.w3.org/2000/svg\" height=\"24px\"viewBox=\"0 0 24 24\"\n",
              "       width=\"24px\">\n",
              "    <path d=\"M0 0h24v24H0V0z\" fill=\"none\"/>\n",
              "    <path d=\"M18.56 5.44l.94 2.06.94-2.06 2.06-.94-2.06-.94-.94-2.06-.94 2.06-2.06.94zm-11 1L8.5 8.5l.94-2.06 2.06-.94-2.06-.94L8.5 2.5l-.94 2.06-2.06.94zm10 10l.94 2.06.94-2.06 2.06-.94-2.06-.94-.94-2.06-.94 2.06-2.06.94z\"/><path d=\"M17.41 7.96l-1.37-1.37c-.4-.4-.92-.59-1.43-.59-.52 0-1.04.2-1.43.59L10.3 9.45l-7.72 7.72c-.78.78-.78 2.05 0 2.83L4 21.41c.39.39.9.59 1.41.59.51 0 1.02-.2 1.41-.59l7.78-7.78 2.81-2.81c.8-.78.8-2.07 0-2.86zM5.41 20L4 18.59l7.72-7.72 1.47 1.35L5.41 20z\"/>\n",
              "  </svg>\n",
              "      </button>\n",
              "      \n",
              "  <style>\n",
              "    .colab-df-container {\n",
              "      display:flex;\n",
              "      flex-wrap:wrap;\n",
              "      gap: 12px;\n",
              "    }\n",
              "\n",
              "    .colab-df-convert {\n",
              "      background-color: #E8F0FE;\n",
              "      border: none;\n",
              "      border-radius: 50%;\n",
              "      cursor: pointer;\n",
              "      display: none;\n",
              "      fill: #1967D2;\n",
              "      height: 32px;\n",
              "      padding: 0 0 0 0;\n",
              "      width: 32px;\n",
              "    }\n",
              "\n",
              "    .colab-df-convert:hover {\n",
              "      background-color: #E2EBFA;\n",
              "      box-shadow: 0px 1px 2px rgba(60, 64, 67, 0.3), 0px 1px 3px 1px rgba(60, 64, 67, 0.15);\n",
              "      fill: #174EA6;\n",
              "    }\n",
              "\n",
              "    [theme=dark] .colab-df-convert {\n",
              "      background-color: #3B4455;\n",
              "      fill: #D2E3FC;\n",
              "    }\n",
              "\n",
              "    [theme=dark] .colab-df-convert:hover {\n",
              "      background-color: #434B5C;\n",
              "      box-shadow: 0px 1px 3px 1px rgba(0, 0, 0, 0.15);\n",
              "      filter: drop-shadow(0px 1px 2px rgba(0, 0, 0, 0.3));\n",
              "      fill: #FFFFFF;\n",
              "    }\n",
              "  </style>\n",
              "\n",
              "      <script>\n",
              "        const buttonEl =\n",
              "          document.querySelector('#df-7e42fd74-c493-4aeb-9ac2-b5f26bd57db5 button.colab-df-convert');\n",
              "        buttonEl.style.display =\n",
              "          google.colab.kernel.accessAllowed ? 'block' : 'none';\n",
              "\n",
              "        async function convertToInteractive(key) {\n",
              "          const element = document.querySelector('#df-7e42fd74-c493-4aeb-9ac2-b5f26bd57db5');\n",
              "          const dataTable =\n",
              "            await google.colab.kernel.invokeFunction('convertToInteractive',\n",
              "                                                     [key], {});\n",
              "          if (!dataTable) return;\n",
              "\n",
              "          const docLinkHtml = 'Like what you see? Visit the ' +\n",
              "            '<a target=\"_blank\" href=https://colab.research.google.com/notebooks/data_table.ipynb>data table notebook</a>'\n",
              "            + ' to learn more about interactive tables.';\n",
              "          element.innerHTML = '';\n",
              "          dataTable['output_type'] = 'display_data';\n",
              "          await google.colab.output.renderOutput(dataTable, element);\n",
              "          const docLink = document.createElement('div');\n",
              "          docLink.innerHTML = docLinkHtml;\n",
              "          element.appendChild(docLink);\n",
              "        }\n",
              "      </script>\n",
              "    </div>\n",
              "  </div>\n",
              "  "
            ]
          },
          "metadata": {},
          "execution_count": 161
        }
      ],
      "source": [
        "df1"
      ]
    },
    {
      "cell_type": "code",
      "execution_count": null,
      "metadata": {
        "id": "X1KUcP7QibKe",
        "colab": {
          "base_uri": "https://localhost:8080/"
        },
        "outputId": "a17809f8-9550-4f37-dee9-5b4143594cfe"
      },
      "outputs": [
        {
          "output_type": "execute_result",
          "data": {
            "text/plain": [
              "array([0, 2, 4, 6, 3, 5, 1])"
            ]
          },
          "metadata": {},
          "execution_count": 162
        }
      ],
      "source": [
        "df1['emotion'].unique()"
      ]
    },
    {
      "cell_type": "code",
      "execution_count": null,
      "metadata": {
        "id": "LANDzQY8ifXG"
      },
      "outputs": [],
      "source": [
        "dict={0:'Anger',1:'Disgust',2:'Fear',3:'Happiness',4:'Sadness',5:'Surprise',6:'Neutral'}"
      ]
    },
    {
      "cell_type": "code",
      "execution_count": null,
      "metadata": {
        "id": "okY5Raz7i5si"
      },
      "outputs": [],
      "source": [
        "a=df['emotion'].value_counts()\n",
        "b=a.index.tolist()"
      ]
    },
    {
      "cell_type": "code",
      "execution_count": null,
      "metadata": {
        "id": "MHFhQ4e_kD5_",
        "colab": {
          "base_uri": "https://localhost:8080/"
        },
        "outputId": "ec796c41-732d-453d-9704-e043b684f7c4"
      },
      "outputs": [
        {
          "output_type": "execute_result",
          "data": {
            "text/plain": [
              "3    8989\n",
              "6    6198\n",
              "4    6077\n",
              "2    5121\n",
              "0    4953\n",
              "5    4002\n",
              "1     547\n",
              "Name: emotion, dtype: int64"
            ]
          },
          "metadata": {},
          "execution_count": 165
        }
      ],
      "source": [
        "a"
      ]
    },
    {
      "cell_type": "code",
      "execution_count": null,
      "metadata": {
        "id": "D4EgkelEkpsA",
        "colab": {
          "base_uri": "https://localhost:8080/"
        },
        "outputId": "d51fa2b2-438d-41fc-dd61-47601adf23d0"
      },
      "outputs": [
        {
          "output_type": "execute_result",
          "data": {
            "text/plain": [
              "[3, 6, 4, 2, 0, 5, 1]"
            ]
          },
          "metadata": {},
          "execution_count": 166
        }
      ],
      "source": [
        "b"
      ]
    },
    {
      "cell_type": "code",
      "execution_count": null,
      "metadata": {
        "id": "oJfmByn2kHAa"
      },
      "outputs": [],
      "source": [
        "c=[]\n",
        "for i in range(len(b)):\n",
        "  c.append(dict[b[i]])"
      ]
    },
    {
      "cell_type": "code",
      "execution_count": null,
      "metadata": {
        "id": "B6idkctVknpF",
        "colab": {
          "base_uri": "https://localhost:8080/"
        },
        "outputId": "93a81203-1010-4cdb-9566-e09628efce79"
      },
      "outputs": [
        {
          "output_type": "execute_result",
          "data": {
            "text/plain": [
              "['Happiness', 'Neutral', 'Sadness', 'Fear', 'Anger', 'Surprise', 'Disgust']"
            ]
          },
          "metadata": {},
          "execution_count": 168
        }
      ],
      "source": [
        "c"
      ]
    },
    {
      "cell_type": "code",
      "execution_count": null,
      "metadata": {
        "id": "V-YT3Rd5i_eg",
        "colab": {
          "base_uri": "https://localhost:8080/",
          "height": 284
        },
        "outputId": "a71ae476-e561-49b6-b43b-7db4704e9a0f"
      },
      "outputs": [
        {
          "output_type": "execute_result",
          "data": {
            "text/plain": [
              "<matplotlib.axes._subplots.AxesSubplot at 0x7f2c77cdb690>"
            ]
          },
          "metadata": {},
          "execution_count": 169
        },
        {
          "output_type": "display_data",
          "data": {
            "text/plain": [
              "<Figure size 432x288 with 1 Axes>"
            ],
            "image/png": "[encoded data removed]"
          },
          "metadata": {
            "needs_background": "light"
          }
        }
      ],
      "source": [
        "sns.barplot(x=c,y=a)"
      ]
    },
    {
      "cell_type": "code",
      "execution_count": null,
      "metadata": {
        "id": "BYKlN3dRjGsM",
        "colab": {
          "base_uri": "https://localhost:8080/"
        },
        "outputId": "7a533c31-8a5e-4c5d-dc5d-27341bb23035"
      },
      "outputs": [
        {
          "output_type": "execute_result",
          "data": {
            "text/plain": [
              "(35887, 2)"
            ]
          },
          "metadata": {},
          "execution_count": 170
        }
      ],
      "source": [
        "df1.shape"
      ]
    },
    {
      "cell_type": "code",
      "execution_count": null,
      "metadata": {
        "id": "DLfiUSHUglwW"
      },
      "outputs": [],
      "source": [
        "INTERESTED_LABELS = [2,3,4,6]\n",
        "df1 = df1[df1.emotion.isin(INTERESTED_LABELS)]"
      ]
    },
    {
      "cell_type": "code",
      "source": [
        ""
      ],
      "metadata": {
        "id": "mQuwusxm9zO2"
      },
      "execution_count": null,
      "outputs": []
    },
    {
      "cell_type": "code",
      "execution_count": null,
      "metadata": {
        "id": "Z3BQxTRNlC-G",
        "colab": {
          "base_uri": "https://localhost:8080/"
        },
        "outputId": "a8b2da79-4151-41f9-8166-9329a80b4b42"
      },
      "outputs": [
        {
          "output_type": "stream",
          "name": "stderr",
          "text": [
            "/usr/local/lib/python3.7/dist-packages/ipykernel_launcher.py:1: SettingWithCopyWarning: \n",
            "A value is trying to be set on a copy of a slice from a DataFrame.\n",
            "Try using .loc[row_indexer,col_indexer] = value instead\n",
            "\n",
            "See the caveats in the documentation: https://pandas.pydata.org/pandas-docs/stable/user_guide/indexing.html#returning-a-view-versus-a-copy\n",
            "  \"\"\"Entry point for launching an IPython kernel.\n"
          ]
        }
      ],
      "source": [
        "df1['pixels'] = df1['pixels'].map(lambda x: np.array(x.split(' '), dtype=np.float32).reshape(48, 48))\n",
        "X = np.array(df1['pixels'].to_list())"
      ]
    },
    {
      "cell_type": "code",
      "source": [
        ""
      ],
      "metadata": {
        "id": "xOZW8SeX-3o2"
      },
      "execution_count": null,
      "outputs": []
    },
    {
      "cell_type": "code",
      "execution_count": null,
      "metadata": {
        "id": "CCfMyLGhlsNM"
      },
      "outputs": [],
      "source": [
        "X_reshaped = X.reshape(X.shape[0], 48, 48, 1)"
      ]
    },
    {
      "cell_type": "code",
      "execution_count": null,
      "metadata": {
        "id": "NyQZhhmSl09A"
      },
      "outputs": [],
      "source": [
        "df=X_reshaped"
      ]
    },
    {
      "cell_type": "code",
      "source": [
        "for i in range(26000):\n",
        "  df[i]=df[i]/255"
      ],
      "metadata": {
        "id": "2zeD5cxF--9_"
      },
      "execution_count": null,
      "outputs": []
    },
    {
      "cell_type": "code",
      "source": [
        "df"
      ],
      "metadata": {
        "colab": {
          "base_uri": "https://localhost:8080/"
        },
        "id": "VdgKAw8g_cPM",
        "outputId": "60bb71d1-11f7-4f38-f4df-c83f672b33ee"
      },
      "execution_count": null,
      "outputs": [
        {
          "output_type": "execute_result",
          "data": {
            "text/plain": [
              "array([[[[9.05882359e-01],\n",
              "         [8.31372559e-01],\n",
              "         [6.11764729e-01],\n",
              "         ...,\n",
              "         [1.72549024e-01],\n",
              "         [1.05882354e-01],\n",
              "         [6.27451017e-02]],\n",
              "\n",
              "        [[8.98039222e-01],\n",
              "         [6.86274529e-01],\n",
              "         [5.80392182e-01],\n",
              "         ...,\n",
              "         [1.05882354e-01],\n",
              "         [1.37254909e-01],\n",
              "         [1.05882354e-01]],\n",
              "\n",
              "        [[8.39215696e-01],\n",
              "         [6.11764729e-01],\n",
              "         [6.15686297e-01],\n",
              "         ...,\n",
              "         [1.09803922e-01],\n",
              "         [8.62745121e-02],\n",
              "         [1.09803922e-01]],\n",
              "\n",
              "        ...,\n",
              "\n",
              "        [[9.45098042e-01],\n",
              "         [9.60784316e-01],\n",
              "         [9.80392158e-01],\n",
              "         ...,\n",
              "         [2.23529413e-01],\n",
              "         [3.96078438e-01],\n",
              "         [5.72549045e-01]],\n",
              "\n",
              "        [[9.64705884e-01],\n",
              "         [9.80392158e-01],\n",
              "         [9.88235295e-01],\n",
              "         ...,\n",
              "         [3.05882365e-01],\n",
              "         [4.11764711e-01],\n",
              "         [6.35294139e-01]],\n",
              "\n",
              "        [[9.80392158e-01],\n",
              "         [9.84313726e-01],\n",
              "         [9.80392158e-01],\n",
              "         ...,\n",
              "         [3.45098048e-01],\n",
              "         [4.31372553e-01],\n",
              "         [5.96078455e-01]]],\n",
              "\n",
              "\n",
              "       [[[9.41176489e-02],\n",
              "         [1.25490203e-01],\n",
              "         [1.41176477e-01],\n",
              "         ...,\n",
              "         [6.78431392e-01],\n",
              "         [6.74509823e-01],\n",
              "         [6.78431392e-01]],\n",
              "\n",
              "        [[9.80392173e-02],\n",
              "         [1.33333340e-01],\n",
              "         [1.13725491e-01],\n",
              "         ...,\n",
              "         [6.78431392e-01],\n",
              "         [6.74509823e-01],\n",
              "         [6.78431392e-01]],\n",
              "\n",
              "        [[1.01960786e-01],\n",
              "         [1.13725491e-01],\n",
              "         [9.80392173e-02],\n",
              "         ...,\n",
              "         [6.74509823e-01],\n",
              "         [6.74509823e-01],\n",
              "         [6.82352960e-01]],\n",
              "\n",
              "        ...,\n",
              "\n",
              "        [[6.23529434e-01],\n",
              "         [7.25490212e-01],\n",
              "         [6.15686297e-01],\n",
              "         ...,\n",
              "         [6.15686297e-01],\n",
              "         [6.11764729e-01],\n",
              "         [6.00000024e-01]],\n",
              "\n",
              "        [[5.33333361e-01],\n",
              "         [6.15686297e-01],\n",
              "         [7.33333349e-01],\n",
              "         ...,\n",
              "         [5.96078455e-01],\n",
              "         [5.96078455e-01],\n",
              "         [5.88235319e-01]],\n",
              "\n",
              "        [[5.68627477e-01],\n",
              "         [5.09803951e-01],\n",
              "         [6.31372571e-01],\n",
              "         ...,\n",
              "         [5.56862772e-01],\n",
              "         [5.60784340e-01],\n",
              "         [5.56862772e-01]]],\n",
              "\n",
              "\n",
              "       [[[1.56862754e-02],\n",
              "         [0.00000000e+00],\n",
              "         [0.00000000e+00],\n",
              "         ...,\n",
              "         [1.05882354e-01],\n",
              "         [9.41176489e-02],\n",
              "         [9.80392173e-02]],\n",
              "\n",
              "        [[3.92156886e-03],\n",
              "         [0.00000000e+00],\n",
              "         [0.00000000e+00],\n",
              "         ...,\n",
              "         [1.01960786e-01],\n",
              "         [9.01960805e-02],\n",
              "         [1.01960786e-01]],\n",
              "\n",
              "        [[0.00000000e+00],\n",
              "         [0.00000000e+00],\n",
              "         [0.00000000e+00],\n",
              "         ...,\n",
              "         [1.05882354e-01],\n",
              "         [1.01960786e-01],\n",
              "         [1.01960786e-01]],\n",
              "\n",
              "        ...,\n",
              "\n",
              "        [[0.00000000e+00],\n",
              "         [0.00000000e+00],\n",
              "         [0.00000000e+00],\n",
              "         ...,\n",
              "         [1.33333340e-01],\n",
              "         [1.25490203e-01],\n",
              "         [1.17647059e-01]],\n",
              "\n",
              "        [[0.00000000e+00],\n",
              "         [0.00000000e+00],\n",
              "         [0.00000000e+00],\n",
              "         ...,\n",
              "         [1.29411772e-01],\n",
              "         [1.21568628e-01],\n",
              "         [1.17647059e-01]],\n",
              "\n",
              "        [[0.00000000e+00],\n",
              "         [0.00000000e+00],\n",
              "         [0.00000000e+00],\n",
              "         ...,\n",
              "         [1.17647059e-01],\n",
              "         [1.13725491e-01],\n",
              "         [1.17647059e-01]]],\n",
              "\n",
              "\n",
              "       ...,\n",
              "\n",
              "\n",
              "       [[[1.78000000e+02],\n",
              "         [1.74000000e+02],\n",
              "         [1.72000000e+02],\n",
              "         ...,\n",
              "         [7.80000000e+01],\n",
              "         [4.10000000e+01],\n",
              "         [5.70000000e+01]],\n",
              "\n",
              "        [[1.81000000e+02],\n",
              "         [1.78000000e+02],\n",
              "         [1.78000000e+02],\n",
              "         ...,\n",
              "         [1.26000000e+02],\n",
              "         [6.30000000e+01],\n",
              "         [6.40000000e+01]],\n",
              "\n",
              "        [[1.81000000e+02],\n",
              "         [1.76000000e+02],\n",
              "         [1.76000000e+02],\n",
              "         ...,\n",
              "         [1.77000000e+02],\n",
              "         [1.45000000e+02],\n",
              "         [8.20000000e+01]],\n",
              "\n",
              "        ...,\n",
              "\n",
              "        [[1.93000000e+02],\n",
              "         [1.91000000e+02],\n",
              "         [1.87000000e+02],\n",
              "         ...,\n",
              "         [1.00000000e+00],\n",
              "         [1.00000000e+00],\n",
              "         [0.00000000e+00]],\n",
              "\n",
              "        [[1.93000000e+02],\n",
              "         [1.92000000e+02],\n",
              "         [1.91000000e+02],\n",
              "         ...,\n",
              "         [0.00000000e+00],\n",
              "         [0.00000000e+00],\n",
              "         [0.00000000e+00]],\n",
              "\n",
              "        [[1.94000000e+02],\n",
              "         [1.91000000e+02],\n",
              "         [1.92000000e+02],\n",
              "         ...,\n",
              "         [0.00000000e+00],\n",
              "         [0.00000000e+00],\n",
              "         [0.00000000e+00]]],\n",
              "\n",
              "\n",
              "       [[[3.00000000e+01],\n",
              "         [2.80000000e+01],\n",
              "         [2.80000000e+01],\n",
              "         ...,\n",
              "         [6.00000000e+01],\n",
              "         [5.00000000e+01],\n",
              "         [4.40000000e+01]],\n",
              "\n",
              "        [[3.00000000e+01],\n",
              "         [2.70000000e+01],\n",
              "         [2.80000000e+01],\n",
              "         ...,\n",
              "         [6.40000000e+01],\n",
              "         [5.20000000e+01],\n",
              "         [4.00000000e+01]],\n",
              "\n",
              "        [[3.10000000e+01],\n",
              "         [2.80000000e+01],\n",
              "         [3.00000000e+01],\n",
              "         ...,\n",
              "         [6.10000000e+01],\n",
              "         [5.40000000e+01],\n",
              "         [3.70000000e+01]],\n",
              "\n",
              "        ...,\n",
              "\n",
              "        [[1.04000000e+02],\n",
              "         [1.09000000e+02],\n",
              "         [1.10000000e+02],\n",
              "         ...,\n",
              "         [3.50000000e+01],\n",
              "         [3.00000000e+01],\n",
              "         [3.00000000e+01]],\n",
              "\n",
              "        [[1.02000000e+02],\n",
              "         [1.05000000e+02],\n",
              "         [1.08000000e+02],\n",
              "         ...,\n",
              "         [3.50000000e+01],\n",
              "         [3.10000000e+01],\n",
              "         [2.90000000e+01]],\n",
              "\n",
              "        [[9.30000000e+01],\n",
              "         [9.60000000e+01],\n",
              "         [1.00000000e+02],\n",
              "         ...,\n",
              "         [3.50000000e+01],\n",
              "         [3.00000000e+01],\n",
              "         [2.80000000e+01]]],\n",
              "\n",
              "\n",
              "       [[[1.90000000e+01],\n",
              "         [1.30000000e+01],\n",
              "         [1.40000000e+01],\n",
              "         ...,\n",
              "         [1.08000000e+02],\n",
              "         [9.50000000e+01],\n",
              "         [8.60000000e+01]],\n",
              "\n",
              "        [[1.60000000e+01],\n",
              "         [1.70000000e+01],\n",
              "         [1.50000000e+01],\n",
              "         ...,\n",
              "         [1.05000000e+02],\n",
              "         [9.40000000e+01],\n",
              "         [9.00000000e+01]],\n",
              "\n",
              "        [[1.00000000e+01],\n",
              "         [9.00000000e+00],\n",
              "         [1.00000000e+01],\n",
              "         ...,\n",
              "         [1.01000000e+02],\n",
              "         [9.30000000e+01],\n",
              "         [9.50000000e+01]],\n",
              "\n",
              "        ...,\n",
              "\n",
              "        [[1.80000000e+01],\n",
              "         [1.40000000e+01],\n",
              "         [1.60000000e+01],\n",
              "         ...,\n",
              "         [5.50000000e+01],\n",
              "         [6.40000000e+01],\n",
              "         [9.50000000e+01]],\n",
              "\n",
              "        [[1.50000000e+01],\n",
              "         [1.50000000e+01],\n",
              "         [1.30000000e+01],\n",
              "         ...,\n",
              "         [1.23000000e+02],\n",
              "         [1.71000000e+02],\n",
              "         [1.92000000e+02]],\n",
              "\n",
              "        [[1.60000000e+01],\n",
              "         [1.40000000e+01],\n",
              "         [1.30000000e+01],\n",
              "         ...,\n",
              "         [1.89000000e+02],\n",
              "         [1.99000000e+02],\n",
              "         [2.01000000e+02]]]], dtype=float32)"
            ]
          },
          "metadata": {},
          "execution_count": 176
        }
      ]
    },
    {
      "cell_type": "code",
      "execution_count": null,
      "metadata": {
        "id": "wQzTbvbhl3we",
        "colab": {
          "base_uri": "https://localhost:8080/"
        },
        "outputId": "e30aa3d6-b69d-4657-baa9-8d825e9ee682"
      },
      "outputs": [
        {
          "output_type": "execute_result",
          "data": {
            "text/plain": [
              "(26385, 48, 48, 1)"
            ]
          },
          "metadata": {},
          "execution_count": 177
        }
      ],
      "source": [
        "df.shape"
      ]
    },
    {
      "cell_type": "code",
      "execution_count": null,
      "metadata": {
        "id": "9GscgdWxl5Bs",
        "colab": {
          "base_uri": "https://localhost:8080/"
        },
        "outputId": "74a02d11-126c-4cdc-af89-d5a867528b29"
      },
      "outputs": [
        {
          "output_type": "execute_result",
          "data": {
            "text/plain": [
              "(48, 48, 1)"
            ]
          },
          "metadata": {},
          "execution_count": 178
        }
      ],
      "source": [
        "df[0].shape"
      ]
    },
    {
      "cell_type": "code",
      "source": [
        "from tensorflow.keras.preprocessing.image import ImageDataGenerator\n",
        "train_datagen = ImageDataGenerator(rescale = 1/255.,\n",
        "                                  rotation_range = 0,\n",
        "                                  height_shift_range=0.2,\n",
        "                                  width_shift_range=0.2,\n",
        "                                  shear_range=0,\n",
        "                                  zoom_range=0.2,\n",
        "                                  horizontal_flip=True,\n",
        "                                  fill_mode='nearest')"
      ],
      "metadata": {
        "id": "2JS6gSeE-ZF_"
      },
      "execution_count": null,
      "outputs": []
    },
    {
      "cell_type": "code",
      "execution_count": null,
      "metadata": {
        "id": "XK5Cf6TNXfVz"
      },
      "outputs": [],
      "source": [
        "from keras.layers import Dense\n",
        "from keras.models import Sequential\n",
        "from tensorflow.keras.layers import Flatten,BatchNormalization\n",
        "from tensorflow.keras.layers import MaxPooling2D,Conv2D\n",
        "from tensorflow.keras.layers import Input,Activation,Add\n",
        "from tensorflow.keras.models import Model \n",
        "from tensorflow.keras.optimizers import Adam\n",
        "from tensorflow.keras.layers import Conv2D,InputLayer, Dropout, BatchNormalization, Flatten, Dense, MaxPooling2D"
      ]
    },
    {
      "cell_type": "code",
      "execution_count": null,
      "metadata": {
        "id": "HbY5-cwYXuz6"
      },
      "outputs": [],
      "source": [
        "model=Sequential()\n",
        "model.add(Conv2D(64,(3,3),input_shape=(48,48,1),activation=\"relu\"))\n",
        "model.add(MaxPooling2D((2,2)))\n",
        "model.add(Conv2D(128,(3,3),activation=\"relu\"))\n",
        "model.add(MaxPooling2D((2,2)))\n",
        "model.add(BatchNormalization()) \n",
        "model.add(Conv2D(256,(3,3),activation=\"relu\"))\n",
        "model.add(MaxPooling2D((2,2)))\n",
        "model.add(Conv2D(512,(3,3),activation=\"relu\"))\n",
        "model.add(MaxPooling2D((2,2)))\n",
        "model.add(BatchNormalization()) \n",
        "model.add(Flatten())\n",
        "model.add(Dropout(0.4))\n",
        "model.add(Dense(512,activation=\"relu\"))\n",
        "model.add(Dropout(0.2))\n",
        "model.add(Dense(4,activation=\"softmax\"))"
      ]
    },
    {
      "cell_type": "code",
      "execution_count": null,
      "metadata": {
        "id": "1l0fwX4bXzki",
        "colab": {
          "base_uri": "https://localhost:8080/"
        },
        "outputId": "8235ae7a-43df-445f-97ef-170879327939"
      },
      "outputs": [
        {
          "output_type": "stream",
          "name": "stdout",
          "text": [
            "Model: \"sequential_3\"\n",
            "_________________________________________________________________\n",
            " Layer (type)                Output Shape              Param #   \n",
            "=================================================================\n",
            " conv2d_12 (Conv2D)          (None, 46, 46, 64)        640       \n",
            "                                                                 \n",
            " max_pooling2d_12 (MaxPoolin  (None, 23, 23, 64)       0         \n",
            " g2D)                                                            \n",
            "                                                                 \n",
            " conv2d_13 (Conv2D)          (None, 21, 21, 128)       73856     \n",
            "                                                                 \n",
            " max_pooling2d_13 (MaxPoolin  (None, 10, 10, 128)      0         \n",
            " g2D)                                                            \n",
            "                                                                 \n",
            " batch_normalization_6 (Batc  (None, 10, 10, 128)      512       \n",
            " hNormalization)                                                 \n",
            "                                                                 \n",
            " conv2d_14 (Conv2D)          (None, 8, 8, 256)         295168    \n",
            "                                                                 \n",
            " max_pooling2d_14 (MaxPoolin  (None, 4, 4, 256)        0         \n",
            " g2D)                                                            \n",
            "                                                                 \n",
            " conv2d_15 (Conv2D)          (None, 2, 2, 512)         1180160   \n",
            "                                                                 \n",
            " max_pooling2d_15 (MaxPoolin  (None, 1, 1, 512)        0         \n",
            " g2D)                                                            \n",
            "                                                                 \n",
            " batch_normalization_7 (Batc  (None, 1, 1, 512)        2048      \n",
            " hNormalization)                                                 \n",
            "                                                                 \n",
            " flatten_3 (Flatten)         (None, 512)               0         \n",
            "                                                                 \n",
            " dropout_6 (Dropout)         (None, 512)               0         \n",
            "                                                                 \n",
            " dense_6 (Dense)             (None, 512)               262656    \n",
            "                                                                 \n",
            " dropout_7 (Dropout)         (None, 512)               0         \n",
            "                                                                 \n",
            " dense_7 (Dense)             (None, 4)                 2052      \n",
            "                                                                 \n",
            "=================================================================\n",
            "Total params: 1,817,092\n",
            "Trainable params: 1,815,812\n",
            "Non-trainable params: 1,280\n",
            "_________________________________________________________________\n"
          ]
        }
      ],
      "source": [
        "model.summary()"
      ]
    },
    {
      "cell_type": "code",
      "execution_count": null,
      "metadata": {
        "id": "_nR-RUqZZC3j"
      },
      "outputs": [],
      "source": [
        "model.compile(optimizer='adam',loss='categorical_crossentropy',metrics=['accuracy'])"
      ]
    },
    {
      "cell_type": "code",
      "execution_count": null,
      "metadata": {
        "id": "6eSdHPRIZFzf"
      },
      "outputs": [],
      "source": [
        "df1=df1['emotion']"
      ]
    },
    {
      "cell_type": "code",
      "execution_count": null,
      "metadata": {
        "id": "hfxvNuseZoGQ"
      },
      "outputs": [],
      "source": [
        "from keras.callbacks import EarlyStopping, ReduceLROnPlateau\n",
        "callbacks = [EarlyStopping(patience=4, monitor='val_loss', mode='min'), \n",
        "             ReduceLROnPlateau(patience=2, verbose=1)]"
      ]
    },
    {
      "cell_type": "code",
      "source": [
        "df1"
      ],
      "metadata": {
        "colab": {
          "base_uri": "https://localhost:8080/"
        },
        "id": "glhZu98STYUd",
        "outputId": "d148adac-5e56-443f-a05c-1743fcf35d1e"
      },
      "execution_count": null,
      "outputs": [
        {
          "output_type": "execute_result",
          "data": {
            "text/plain": [
              "2        2\n",
              "3        4\n",
              "4        6\n",
              "5        2\n",
              "6        4\n",
              "        ..\n",
              "35880    2\n",
              "35882    6\n",
              "35883    3\n",
              "35885    3\n",
              "35886    2\n",
              "Name: emotion, Length: 26385, dtype: int64"
            ]
          },
          "metadata": {},
          "execution_count": 186
        }
      ]
    },
    {
      "cell_type": "code",
      "execution_count": null,
      "metadata": {
        "id": "jDylhlveZqRr"
      },
      "outputs": [],
      "source": [
        "from sklearn.preprocessing import LabelBinarizer\n",
        "lb=LabelBinarizer()\n",
        "df1=lb.fit_transform(df1)"
      ]
    },
    {
      "cell_type": "code",
      "source": [
        "df1"
      ],
      "metadata": {
        "colab": {
          "base_uri": "https://localhost:8080/"
        },
        "id": "3F_f3WfBTcb5",
        "outputId": "3a410e95-d15e-4ac1-e79d-30cecef9cd67"
      },
      "execution_count": null,
      "outputs": [
        {
          "output_type": "execute_result",
          "data": {
            "text/plain": [
              "array([[1, 0, 0, 0],\n",
              "       [0, 0, 1, 0],\n",
              "       [0, 0, 0, 1],\n",
              "       ...,\n",
              "       [0, 1, 0, 0],\n",
              "       [0, 1, 0, 0],\n",
              "       [1, 0, 0, 0]])"
            ]
          },
          "metadata": {},
          "execution_count": 188
        }
      ]
    },
    {
      "cell_type": "code",
      "execution_count": null,
      "metadata": {
        "id": "IUjhVBNLZKXm"
      },
      "outputs": [],
      "source": [
        "from sklearn.model_selection import train_test_split\n",
        "X_train, X_test, y_train, y_test = train_test_split(df,df1, test_size=0.2, random_state=42)"
      ]
    },
    {
      "cell_type": "code",
      "execution_count": null,
      "metadata": {
        "id": "grACsyFgaOEe",
        "colab": {
          "base_uri": "https://localhost:8080/"
        },
        "outputId": "229e6ec5-18f0-4d5e-aa93-d41104f93b4f"
      },
      "outputs": [
        {
          "output_type": "stream",
          "name": "stdout",
          "text": [
            "Epoch 1/40\n",
            "106/106 [==============================] - 27s 220ms/step - loss: 1.4636 - accuracy: 0.3311 - val_loss: 4.6111 - val_accuracy: 0.2030 - lr: 0.0010\n",
            "Epoch 2/40\n",
            "106/106 [==============================] - 13s 127ms/step - loss: 1.4232 - accuracy: 0.3365 - val_loss: 1.9350 - val_accuracy: 0.3479 - lr: 0.0010\n",
            "Epoch 3/40\n",
            "106/106 [==============================] - 13s 127ms/step - loss: 1.3757 - accuracy: 0.3438 - val_loss: 2.0351 - val_accuracy: 0.2266 - lr: 0.0010\n",
            "Epoch 4/40\n",
            "106/106 [==============================] - 14s 127ms/step - loss: 1.3542 - accuracy: 0.3499 - val_loss: 1.7007 - val_accuracy: 0.2333 - lr: 0.0010\n",
            "Epoch 5/40\n",
            "106/106 [==============================] - 13s 126ms/step - loss: 1.3468 - accuracy: 0.3544 - val_loss: 2.6693 - val_accuracy: 0.2325 - lr: 0.0010\n",
            "Epoch 6/40\n",
            "106/106 [==============================] - 13s 126ms/step - loss: 1.3380 - accuracy: 0.3632 - val_loss: 1.5652 - val_accuracy: 0.2115 - lr: 0.0010\n",
            "Epoch 7/40\n",
            "106/106 [==============================] - 13s 126ms/step - loss: 1.3255 - accuracy: 0.3755 - val_loss: 2.4220 - val_accuracy: 0.1899 - lr: 0.0010\n",
            "Epoch 8/40\n",
            "106/106 [==============================] - ETA: 0s - loss: 1.3123 - accuracy: 0.3919\n",
            "Epoch 8: ReduceLROnPlateau reducing learning rate to 0.00010000000474974513.\n",
            "106/106 [==============================] - 13s 125ms/step - loss: 1.3123 - accuracy: 0.3919 - val_loss: 2.1802 - val_accuracy: 0.2194 - lr: 0.0010\n",
            "Epoch 9/40\n",
            "106/106 [==============================] - 14s 130ms/step - loss: 1.3024 - accuracy: 0.3939 - val_loss: 2.0045 - val_accuracy: 0.2852 - lr: 1.0000e-04\n",
            "Epoch 10/40\n",
            "106/106 [==============================] - ETA: 0s - loss: 1.2814 - accuracy: 0.4051\n",
            "Epoch 10: ReduceLROnPlateau reducing learning rate to 1.0000000474974514e-05.\n",
            "106/106 [==============================] - 13s 126ms/step - loss: 1.2814 - accuracy: 0.4051 - val_loss: 1.9392 - val_accuracy: 0.3038 - lr: 1.0000e-04\n"
          ]
        }
      ],
      "source": [
        "n_epochs = 40\n",
        "batch_size = 64\n",
        "history = model.fit(train_datagen.flow(X_train,y_train,batch_size=200),\n",
        "                           epochs=n_epochs, \n",
        "                           callbacks=callbacks,\n",
        "                           validation_data=(X_test, y_test))"
      ]
    },
    {
      "cell_type": "code",
      "source": [
        "model.save('model4.h5')"
      ],
      "metadata": {
        "id": "Y7wyjavnXzDZ"
      },
      "execution_count": null,
      "outputs": []
    },
    {
      "cell_type": "code",
      "source": [
        "y_test"
      ],
      "metadata": {
        "colab": {
          "base_uri": "https://localhost:8080/"
        },
        "id": "zrlc_ZdoXEH4",
        "outputId": "5201037e-971b-448c-9bca-88f2a0ed7a0c"
      },
      "execution_count": null,
      "outputs": [
        {
          "output_type": "execute_result",
          "data": {
            "text/plain": [
              "array([[1, 0, 0, 0],\n",
              "       [0, 0, 0, 1],\n",
              "       [0, 1, 0, 0],\n",
              "       ...,\n",
              "       [0, 0, 1, 0],\n",
              "       [0, 0, 0, 1],\n",
              "       [0, 0, 0, 1]])"
            ]
          },
          "metadata": {},
          "execution_count": 190
        }
      ]
    },
    {
      "cell_type": "code",
      "source": [
        "i=np.random.randint(4000)\n",
        "img = np.array(image.load_img(\"/content/gdrive/MyDrive/SE/378ffa7b4bc07f190ee35f85ed816377.jpg\",target_size=(48,48)))\n",
        "img=np.array(tf.image.rgb_to_grayscale(img, name=None))/255\n",
        "img = img.reshape(1, 48, 48, 1)\n",
        "dict={0:'Fear',1:'Happiness',2:'Sadness',3:'Neutral'}\n",
        "#a=model.predict(X_test[i].reshape(1,48,48,1))\n",
        "plt.imshow(img.reshape(48,48),cmap='pink')\n",
        "a=model.predict(img)\n",
        "print(i,a,\" \",y_test[i])\n",
        "print(dict[np.argmax(a)])"
      ],
      "metadata": {
        "colab": {
          "base_uri": "https://localhost:8080/",
          "height": 303
        },
        "id": "9H-XkoJrOKka",
        "outputId": "d9d3881e-ec00-43b1-890a-e2655252779b"
      },
      "execution_count": null,
      "outputs": [
        {
          "output_type": "stream",
          "name": "stdout",
          "text": [
            "2725 [[5.3390284e-08 9.9999702e-01 3.1080209e-08 2.9996518e-06]]   [0 0 1 0]\n",
            "Happiness\n"
          ]
        },
        {
          "output_type": "display_data",
          "data": {
            "text/plain": [
              "<Figure size 432x288 with 1 Axes>"
            ],
            "image/png": "[encoded data removed]"
          },
          "metadata": {
            "needs_background": "light"
          }
        }
      ]
    },
    {
      "cell_type": "code",
      "source": [
        "print(\"Predicted:\",dict[np.argmax(a)],\" Actual:\",dict[np.argmax(y_test[i])])\n",
        "plt.imshow(X_test[i].reshape(48,48),cmap='pink')"
      ],
      "metadata": {
        "colab": {
          "base_uri": "https://localhost:8080/",
          "height": 303
        },
        "id": "-OXmvPAWOvm4",
        "outputId": "f9ca6db3-6abc-425e-fbd8-206ec3e4711e"
      },
      "execution_count": null,
      "outputs": [
        {
          "output_type": "stream",
          "name": "stdout",
          "text": [
            "Predicted: Sadness  Actual: Happiness\n"
          ]
        },
        {
          "output_type": "execute_result",
          "data": {
            "text/plain": [
              "<matplotlib.image.AxesImage at 0x7f2c7a251c50>"
            ]
          },
          "metadata": {},
          "execution_count": 56
        },
        {
          "output_type": "display_data",
          "data": {
            "text/plain": [
              "<Figure size 432x288 with 1 Axes>"
            ],
            "image/png": "[encoded data removed]"
          },
          "metadata": {
            "needs_background": "light"
          }
        }
      ]
    },
    {
      "cell_type": "code",
      "execution_count": null,
      "metadata": {
        "id": "ZC1KwpCXosVy",
        "colab": {
          "base_uri": "https://localhost:8080/",
          "height": 244
        },
        "outputId": "85ddd4a5-2e04-4652-91b8-e6873f086879"
      },
      "outputs": [
        {
          "output_type": "error",
          "ename": "NameError",
          "evalue": "ignored",
          "traceback": [
            "\u001b[0;31m---------------------------------------------------------------------------\u001b[0m",
            "\u001b[0;31mNameError\u001b[0m                                 Traceback (most recent call last)",
            "\u001b[0;32m<ipython-input-214-08b5a80a350b>\u001b[0m in \u001b[0;36m<module>\u001b[0;34m()\u001b[0m\n\u001b[1;32m      3\u001b[0m \u001b[0mcnn_model\u001b[0m\u001b[0;34m.\u001b[0m\u001b[0madd\u001b[0m\u001b[0;34m(\u001b[0m\u001b[0mConv2D\u001b[0m\u001b[0;34m(\u001b[0m\u001b[0mfilters\u001b[0m\u001b[0;34m=\u001b[0m\u001b[0;36m32\u001b[0m\u001b[0;34m,\u001b[0m \u001b[0mkernel_size\u001b[0m\u001b[0;34m=\u001b[0m\u001b[0;34m(\u001b[0m\u001b[0;36m5\u001b[0m\u001b[0;34m,\u001b[0m\u001b[0;36m5\u001b[0m\u001b[0;34m)\u001b[0m\u001b[0;34m,\u001b[0m \u001b[0mactivation\u001b[0m\u001b[0;34m=\u001b[0m\u001b[0;34m'relu'\u001b[0m\u001b[0;34m,\u001b[0m \u001b[0minput_shape\u001b[0m\u001b[0;34m=\u001b[0m\u001b[0mX_train\u001b[0m\u001b[0;34m.\u001b[0m\u001b[0mshape\u001b[0m\u001b[0;34m[\u001b[0m\u001b[0;36m1\u001b[0m\u001b[0;34m:\u001b[0m\u001b[0;34m]\u001b[0m\u001b[0;34m)\u001b[0m\u001b[0;34m)\u001b[0m\u001b[0;34m\u001b[0m\u001b[0;34m\u001b[0m\u001b[0m\n\u001b[1;32m      4\u001b[0m \u001b[0mcnn_model\u001b[0m\u001b[0;34m.\u001b[0m\u001b[0madd\u001b[0m\u001b[0;34m(\u001b[0m\u001b[0mConv2D\u001b[0m\u001b[0;34m(\u001b[0m\u001b[0mfilters\u001b[0m\u001b[0;34m=\u001b[0m\u001b[0;36m32\u001b[0m\u001b[0;34m,\u001b[0m \u001b[0mkernel_size\u001b[0m\u001b[0;34m=\u001b[0m\u001b[0;34m(\u001b[0m\u001b[0;36m5\u001b[0m\u001b[0;34m,\u001b[0m\u001b[0;36m5\u001b[0m\u001b[0;34m)\u001b[0m\u001b[0;34m,\u001b[0m \u001b[0mactivation\u001b[0m\u001b[0;34m=\u001b[0m\u001b[0;34m'relu'\u001b[0m\u001b[0;34m)\u001b[0m\u001b[0;34m)\u001b[0m\u001b[0;34m\u001b[0m\u001b[0;34m\u001b[0m\u001b[0m\n\u001b[0;32m----> 5\u001b[0;31m \u001b[0mcnn_model\u001b[0m\u001b[0;34m.\u001b[0m\u001b[0madd\u001b[0m\u001b[0;34m(\u001b[0m\u001b[0mMaxPool2D\u001b[0m\u001b[0;34m(\u001b[0m\u001b[0mpool_size\u001b[0m\u001b[0;34m=\u001b[0m\u001b[0;34m(\u001b[0m\u001b[0;36m2\u001b[0m\u001b[0;34m,\u001b[0m \u001b[0;36m2\u001b[0m\u001b[0;34m)\u001b[0m\u001b[0;34m)\u001b[0m\u001b[0;34m)\u001b[0m\u001b[0;34m\u001b[0m\u001b[0;34m\u001b[0m\u001b[0m\n\u001b[0m\u001b[1;32m      6\u001b[0m \u001b[0mcnn_model\u001b[0m\u001b[0;34m.\u001b[0m\u001b[0madd\u001b[0m\u001b[0;34m(\u001b[0m\u001b[0mDropout\u001b[0m\u001b[0;34m(\u001b[0m\u001b[0mrate\u001b[0m\u001b[0;34m=\u001b[0m\u001b[0;36m0.25\u001b[0m\u001b[0;34m)\u001b[0m\u001b[0;34m)\u001b[0m\u001b[0;34m\u001b[0m\u001b[0;34m\u001b[0m\u001b[0m\n\u001b[1;32m      7\u001b[0m \u001b[0mcnn_model\u001b[0m\u001b[0;34m.\u001b[0m\u001b[0madd\u001b[0m\u001b[0;34m(\u001b[0m\u001b[0mConv2D\u001b[0m\u001b[0;34m(\u001b[0m\u001b[0mfilters\u001b[0m\u001b[0;34m=\u001b[0m\u001b[0;36m64\u001b[0m\u001b[0;34m,\u001b[0m \u001b[0mkernel_size\u001b[0m\u001b[0;34m=\u001b[0m\u001b[0;34m(\u001b[0m\u001b[0;36m3\u001b[0m\u001b[0;34m,\u001b[0m \u001b[0;36m3\u001b[0m\u001b[0;34m)\u001b[0m\u001b[0;34m,\u001b[0m \u001b[0mactivation\u001b[0m\u001b[0;34m=\u001b[0m\u001b[0;34m'relu'\u001b[0m\u001b[0;34m)\u001b[0m\u001b[0;34m)\u001b[0m\u001b[0;34m\u001b[0m\u001b[0;34m\u001b[0m\u001b[0m\n",
            "\u001b[0;31mNameError\u001b[0m: name 'MaxPool2D' is not defined"
          ]
        }
      ],
      "source": [
        "cnn_model = Sequential()\n",
        "\n",
        "cnn_model.add(Conv2D(filters=32, kernel_size=(5,5), activation='relu', input_shape=X_train.shape[1:]))\n",
        "cnn_model.add(Conv2D(filters=32, kernel_size=(5,5), activation='relu'))\n",
        "cnn_model.add(MaxPool2D(pool_size=(2, 2)))\n",
        "cnn_model.add(Dropout(rate=0.25))\n",
        "cnn_model.add(Conv2D(filters=64, kernel_size=(3, 3), activation='relu'))\n",
        "cnn_model.add(Conv2D(filters=64, kernel_size=(3, 3), activation='relu'))\n",
        "cnn_model.add(MaxPool2D(pool_size=(2, 2)))\n",
        "cnn_model.add(Dropout(rate=0.25))\n",
        "cnn_model.add(Flatten())\n",
        "\n",
        "cnn_model.add(Dense(256, activation='relu'))\n",
        "cnn_model.add(Dropout(rate=0.5))\n",
        "cnn_model.add(Dense(5, activation='softmax'))"
      ]
    },
    {
      "cell_type": "code",
      "source": [
        ""
      ],
      "metadata": {
        "id": "O4bnoEWy8auX"
      },
      "execution_count": null,
      "outputs": []
    }
  ],
  "metadata": {
    "accelerator": "GPU",
    "colab": {
      "name": "Facial_emotion_detection.ipynb",
      "provenance": [],
      "collapsed_sections": []
    },
    "kernelspec": {
      "display_name": "Python 3",
      "name": "python3"
    },
    "language_info": {
      "name": "python"
    }
  },
  "nbformat": 4,
  "nbformat_minor": 0
}